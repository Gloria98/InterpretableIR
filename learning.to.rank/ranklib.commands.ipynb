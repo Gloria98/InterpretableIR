{
 "cells": [
  {
   "cell_type": "code",
   "execution_count": 3,
   "metadata": {},
   "outputs": [],
   "source": [
    "from sklearn.preprocessing import MinMaxScaler\n",
    "import warnings\n",
    "warnings.filterwarnings(\"ignore\")\n",
    "import pandas as pd\n",
    "import joblib"
   ]
  },
  {
   "cell_type": "code",
   "execution_count": 4,
   "metadata": {},
   "outputs": [],
   "source": [
    "def generate_ranklib_commands_low_level(year):\n",
    "    \n",
    "    common_command_1 = \"java -jar RankLib-2.12.jar -train ./data/training.for.{}.txt -kcv 5 \".format(year)\n",
    "    common_command_1 += \"-ranker 6 -metric2t MAP -metric2T P@10 \"\n",
    "    common_command_2 = \" -gmax 2 | tail -n 1 >> ./cv.results/{}.low.results.txt; \".format(year)\n",
    "\n",
    "    tree = list(range(300,2100,100))\n",
    "    leaf = list(range(10,20,2))\n",
    "    shrinkage = [0.001, 0.005]\n",
    "    mls = list(range(5,11,2))\n",
    "    \n",
    "    file_path = \"../../commands.for.{}.low.txt\".format(year)\n",
    "    with open (file_path,\"w\") as f:\n",
    "        for a in tree:\n",
    "            for b in leaf:\n",
    "                for c in shrinkage:\n",
    "                    for d in mls:\n",
    "                        parameters = \"-tree {} -leaf {} -shrinkage {} -mls {} \".format(a,b,c,d)\n",
    "                        command = common_command_1 + parameters + common_command_2\n",
    "                        command+= '''echo \"{} {} {} {}\" >> ./cv.results/{}.low.results.txt'''.format(a,b,c,d,year)\n",
    "                        f.write(command)\n",
    "                        f.write(\"\\n\")\n",
    "    f.close()"
   ]
  },
  {
   "cell_type": "code",
   "execution_count": 5,
   "metadata": {},
   "outputs": [],
   "source": [
    "generate_ranklib_commands_low_level(2018)"
   ]
  },
  {
   "cell_type": "code",
   "execution_count": 6,
   "metadata": {},
   "outputs": [],
   "source": [
    "def convert_ranklib_style_low(input_file_path, output_file_path, year):\n",
    "    \n",
    "    '''\n",
    "    Convert the low level feature to ranklib style\n",
    "    '''\n",
    "      \n",
    "    df = pd.read_csv(input_file_path)\n",
    "    \n",
    "    if year == 2018:\n",
    "    \n",
    "        # in 2018 retrieval result, there is no relevance score\n",
    "        # we add relevance score to evaluate in Ranklib\n",
    "        qrel = pd.read_csv(\"../data/topics/\"+str(year)+\"qrel.txt\",sep=\" \",header=None)\n",
    "        qrel.columns = ['topicid','q0','docid','rel']\n",
    "        qrel = qrel[['topicid','docid','rel']]\n",
    "\n",
    "        # merge and fill na\n",
    "        df['topicid'] = df['topicid'].astype(int)\n",
    "        df['docid'] = df['docid'].astype(str)\n",
    "        qrel['topicid'] = qrel['topicid'].astype(int)\n",
    "        qrel['docid'] = qrel['docid'].astype(str)\n",
    "        df = df.merge(qrel, on = [\"topicid\",\"docid\"],how=\"left\")\n",
    "        df.fillna(0, inplace=True)\n",
    "        df['rel'] = df['rel'].astype(int)\n",
    "        \n",
    "        bm25_score_2018 = pd.read_csv(\"../scripts/searching/2018.searching/2018.basic.query.result.txt\", sep=\"\\t\")\n",
    "        df['bm25'] =  bm25_score_2018['SCORE']\n",
    "    \n",
    "    # extract features\n",
    "    columns = list(df.columns)\n",
    "    feature_names = columns.copy()\n",
    "    feature_names.remove(\"topicid\")\n",
    "    feature_names.remove(\"docid\")\n",
    "    feature_names.remove(\"year\")\n",
    "    feature_names.remove(\"rel\")\n",
    "    \n",
    "    # min-max scaling\n",
    "    if year == 2017:\n",
    "        scaler = MinMaxScaler()\n",
    "        df[feature_names]=scaler.fit_transform(df[feature_names])\n",
    "        joblib.dump(scaler, \"low.features.scaler.pkl\")\n",
    "        \n",
    "    if year == 2018:\n",
    "        scaler = joblib.load(\"low.features.scaler.pkl\")\n",
    "        df[feature_names]=scaler.transform(df[feature_names])\n",
    "        \n",
    "    \n",
    "    for index,rows in df.iterrows():\n",
    "        \n",
    "        topicid = int(df.loc[index,\"topicid\"])\n",
    "        docid = str(df.loc[index,\"docid\"])\n",
    "        rel = int(df.loc[index,\"rel\"])\n",
    "        \n",
    "        features = dict(df.loc[index,feature_names])\n",
    "        # sort this dictionary by key (alphabetic order) to make sure the order is consistent over years\n",
    "        features_list =  sorted(features.items(), key=lambda x:x[0])\n",
    "        \n",
    "        # add rel,topic,feature,docid\n",
    "        record = \"{} \".format(rel)\n",
    "        record += \"qid:{} \".format(topicid)\n",
    "        \n",
    "        feature_no = 1\n",
    "        for feature in features_list:\n",
    "            record += \"{}:{} \".format(feature_no,feature[1])\n",
    "            feature_no += 1\n",
    "        \n",
    "        record += \"#{}\".format(docid)\n",
    "        \n",
    "        with open(output_file_path, 'a') as f:\n",
    "            f.write(record)\n",
    "            f.write(\"\\n\")\n",
    "        f.close()"
   ]
  },
  {
   "cell_type": "code",
   "execution_count": 7,
   "metadata": {},
   "outputs": [],
   "source": [
    "# generate training data from 2017\n",
    "convert_ranklib_style_low(\"./ltr.low/2017.low.features.from.retrieval.csv\", \"../../training.for.2018.txt\", 2017)"
   ]
  },
  {
   "cell_type": "code",
   "execution_count": 8,
   "metadata": {},
   "outputs": [],
   "source": [
    "# generate testing data from 2018\n",
    "convert_ranklib_style_low(\"../scripts/reranking/2018.low.features.csv\", \"../../testing.for.2018.txt\", 2018)"
   ]
  }
 ],
 "metadata": {
  "kernelspec": {
   "display_name": "Python 3",
   "language": "python",
   "name": "python3"
  },
  "language_info": {
   "codemirror_mode": {
    "name": "ipython",
    "version": 3
   },
   "file_extension": ".py",
   "mimetype": "text/x-python",
   "name": "python",
   "nbconvert_exporter": "python",
   "pygments_lexer": "ipython3",
   "version": "3.7.4"
  }
 },
 "nbformat": 4,
 "nbformat_minor": 4
}
