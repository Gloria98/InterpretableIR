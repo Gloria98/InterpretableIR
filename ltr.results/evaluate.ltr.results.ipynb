{
 "cells": [
  {
   "cell_type": "code",
   "execution_count": 16,
   "metadata": {},
   "outputs": [],
   "source": [
    "%run /Users/jiamingqu/Desktop/proj/scripts/searching/evaluation.functions.ipynb\n",
    "%run /Users/jiamingqu/Desktop/proj/scripts/reranking/significance.testing.ipynb"
   ]
  },
  {
   "cell_type": "code",
   "execution_count": 17,
   "metadata": {},
   "outputs": [],
   "source": [
    "# evaluate ltr-high"
   ]
  },
  {
   "cell_type": "code",
   "execution_count": 18,
   "metadata": {
    "scrolled": true
   },
   "outputs": [],
   "source": [
    "ltr_high_result = pd.read_csv(\"./high/high.reranking.txt\",sep=\" \",header=None)\n",
    "ltr_high_result.columns = ['TOPIC_NO', 'Q0', 'ID', 'RANK', 'SCORE', 'RUN_NAME']\n",
    "ltr_high_result.ID = ltr_high_result.ID.astype(str)\n",
    "ltr_high_result.TOPIC_NO = ltr_high_result.TOPIC_NO.astype(str)\n",
    "\n",
    "precision_ltr_high = []\n",
    "ap_ltr_high = []\n",
    "recall_ltr_high = []\n",
    "rprec_ltr_high = []\n",
    "\n",
    "for topic in [*range(1,51)]:\n",
    "\n",
    "    # read ground truth\n",
    "    answer = read_answers(2018,topic)\n",
    "\n",
    "    df_result_topic = ltr_high_result.loc[ltr_high_result.TOPIC_NO == str(topic)]\n",
    "    sorted_docs = list(df_result_topic.ID)\n",
    "    \n",
    "    precision_ltr_high.append(calculate_precision(answer,sorted_docs,10))\n",
    "    ap_ltr_high.append(calculate_average_precision(answer,sorted_docs))\n",
    "    recall_ltr_high.append(calculate_recall(answer,sorted_docs,100))\n",
    "    rprec_ltr_high.append(calculate_r_precision(answer,sorted_docs))"
   ]
  },
  {
   "cell_type": "code",
   "execution_count": 19,
   "metadata": {
    "scrolled": true
   },
   "outputs": [
    {
     "data": {
      "text/plain": [
       "(0.544, 0.2202106105919477, 0.29931491993807774, 0.29794833619853733)"
      ]
     },
     "execution_count": 19,
     "metadata": {},
     "output_type": "execute_result"
    }
   ],
   "source": [
    "# parameters: -tree 1900 -leaf 10 -shrinkage 0.005 -mls 9\n",
    "# training data comes from retrieved result\n",
    "np.mean(precision_ltr_high), np.mean(ap_ltr_high), np.mean(recall_ltr_high), np.mean(rprec_ltr_high)"
   ]
  },
  {
   "cell_type": "code",
   "execution_count": 20,
   "metadata": {},
   "outputs": [],
   "source": [
    "# evaluate ltr-low"
   ]
  },
  {
   "cell_type": "code",
   "execution_count": 21,
   "metadata": {
    "scrolled": true
   },
   "outputs": [],
   "source": [
    "ltr_low_result = pd.read_csv(\"./low/low.reranking.txt\",sep=\" \",header=None)\n",
    "ltr_low_result.columns = ['TOPIC_NO', 'Q0', 'ID', 'RANK', 'SCORE', 'RUN_NAME']\n",
    "ltr_low_result.ID = ltr_low_result.ID.astype(str)\n",
    "ltr_low_result.TOPIC_NO = ltr_low_result.TOPIC_NO.astype(str)\n",
    "\n",
    "precision_ltr_low = []\n",
    "ap_ltr_low = []\n",
    "recall_ltr_low = []\n",
    "rprec_ltr_low = []\n",
    "\n",
    "for topic in [*range(1,51)]:\n",
    "\n",
    "    # read ground truth\n",
    "    answer = read_answers(2018,topic)\n",
    "\n",
    "    df_result_topic = ltr_low_result.loc[ltr_low_result.TOPIC_NO == str(topic)]\n",
    "    sorted_docs = list(df_result_topic.ID)\n",
    "    \n",
    "    precision_ltr_low.append(calculate_precision(answer,sorted_docs,10))\n",
    "    ap_ltr_low.append(calculate_average_precision(answer,sorted_docs))\n",
    "    recall_ltr_low.append(calculate_recall(answer,sorted_docs,100))\n",
    "    rprec_ltr_low.append(calculate_r_precision(answer,sorted_docs))"
   ]
  },
  {
   "cell_type": "code",
   "execution_count": 22,
   "metadata": {},
   "outputs": [
    {
     "data": {
      "text/plain": [
       "(0.5880000000000001,\n",
       " 0.24193541441500682,\n",
       " 0.33648752578017543,\n",
       " 0.33105275549645113)"
      ]
     },
     "execution_count": 22,
     "metadata": {},
     "output_type": "execute_result"
    }
   ],
   "source": [
    "# parameters: -tree 700 -leaf 12 -shrinkage 0.005 -mls 5\n",
    "# training data comes from retrieved result\n",
    "np.mean(precision_ltr_low), np.mean(ap_ltr_low), np.mean(recall_ltr_low), np.mean(rprec_ltr_low)"
   ]
  },
  {
   "cell_type": "code",
   "execution_count": 23,
   "metadata": {},
   "outputs": [],
   "source": [
    "# significance testing: ltr-low v.s. ltr-high"
   ]
  },
  {
   "cell_type": "code",
   "execution_count": 24,
   "metadata": {},
   "outputs": [
    {
     "data": {
      "text/plain": [
       "0.12006"
      ]
     },
     "execution_count": 24,
     "metadata": {},
     "output_type": "execute_result"
    }
   ],
   "source": [
    "paired_permutation_test(precision_ltr_high, precision_ltr_low, isTwoSides=True)"
   ]
  },
  {
   "cell_type": "code",
   "execution_count": 25,
   "metadata": {
    "scrolled": true
   },
   "outputs": [
    {
     "data": {
      "text/plain": [
       "0.00962"
      ]
     },
     "execution_count": 25,
     "metadata": {},
     "output_type": "execute_result"
    }
   ],
   "source": [
    "paired_permutation_test(ap_ltr_high, ap_ltr_low, isTwoSides=True)"
   ]
  },
  {
   "cell_type": "code",
   "execution_count": 26,
   "metadata": {
    "scrolled": true
   },
   "outputs": [
    {
     "data": {
      "text/plain": [
       "0.0027"
      ]
     },
     "execution_count": 26,
     "metadata": {},
     "output_type": "execute_result"
    }
   ],
   "source": [
    "paired_permutation_test(rprec_ltr_high, rprec_ltr_low, isTwoSides=True)"
   ]
  }
 ],
 "metadata": {
  "kernelspec": {
   "display_name": "Python 3",
   "language": "python",
   "name": "python3"
  },
  "language_info": {
   "codemirror_mode": {
    "name": "ipython",
    "version": 3
   },
   "file_extension": ".py",
   "mimetype": "text/x-python",
   "name": "python",
   "nbconvert_exporter": "python",
   "pygments_lexer": "ipython3",
   "version": "3.7.4"
  }
 },
 "nbformat": 4,
 "nbformat_minor": 4
}
