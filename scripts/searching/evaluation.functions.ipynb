{
 "cells": [
  {
   "cell_type": "code",
   "execution_count": 2,
   "metadata": {},
   "outputs": [],
   "source": [
    "import pandas as pd\n",
    "import numpy as np"
   ]
  },
  {
   "cell_type": "code",
   "execution_count": 3,
   "metadata": {},
   "outputs": [],
   "source": [
    "def read_answers(year, topic_no):\n",
    "    \n",
    "    '''\n",
    "    Read the ground truth of a topic in a certain year\n",
    "    Args: year, topic\n",
    "    Returns: the answer for a certain topic, <docid, rel>\n",
    "    '''\n",
    "    \n",
    "    answer = pd.read_csv(\"/Users/jiamingqu/Desktop/proj/data/topics/\"+str(year)+\"qrel.txt\", header = None, sep=\" \")\n",
    "    answer.columns = [\"topic\",\"q0\",\"docid\",\"rel\"]\n",
    "    answer[\"docid\"] = answer[\"docid\"].astype(str)\n",
    "    answer_by_topic = answer[answer.topic==topic_no]\n",
    "    return dict(zip(answer_by_topic.docid, answer_by_topic.rel))"
   ]
  },
  {
   "cell_type": "code",
   "execution_count": 4,
   "metadata": {},
   "outputs": [],
   "source": [
    "def calculate_precision (answer, prediction, k):\n",
    "    \n",
    "    '''\n",
    "    Calculate Precision@K\n",
    "    Input: answer - a dictionary of <docid, relevance> pairs\n",
    "           prediction - a *sorted* list of docid ordered by ranking scores\n",
    "           k: an integer\n",
    "    Output: Precision@K\n",
    "    '''\n",
    "    \n",
    "    # top k\n",
    "    prediction_k = prediction[:k]\n",
    "    count = 0\n",
    "    for i in range(0, k):\n",
    "        doc_id = prediction_k[i]\n",
    "        if doc_id in answer.keys():\n",
    "            if (answer[doc_id] == 1) or (answer[doc_id] == 2):\n",
    "                count += 1\n",
    "            else:\n",
    "                continue\n",
    "        else:\n",
    "            continue\n",
    "    return count/k"
   ]
  },
  {
   "cell_type": "code",
   "execution_count": 5,
   "metadata": {},
   "outputs": [],
   "source": [
    "def calculate_recall (answer, prediction, k):\n",
    "    \n",
    "    '''\n",
    "    Calculate Recall@K\n",
    "    Input: answer - a dictionary of <docid, relevance> pairs\n",
    "           prediction - a *sorted* list of docid ordered by ranking scores\n",
    "           k: an integer\n",
    "    Output: Recall@K\n",
    "    '''\n",
    "    \n",
    "    # top k\n",
    "    prediction_k = prediction[:k]\n",
    "    count = 0\n",
    "    for i in range(0, k):\n",
    "        doc_id = prediction_k[i]\n",
    "        if doc_id in answer.keys():\n",
    "            if (answer[doc_id] == 1) or (answer[doc_id] == 2):\n",
    "                count += 1\n",
    "            else:\n",
    "                continue\n",
    "        else:\n",
    "            continue \n",
    "    total_rel_doc = len({ k:v for k,v in answer.items() if v != 0})\n",
    "    return count/total_rel_doc"
   ]
  },
  {
   "cell_type": "code",
   "execution_count": 6,
   "metadata": {},
   "outputs": [],
   "source": [
    "def calculate_r_precision (answer, prediction):\n",
    "    '''\n",
    "    Calculate R-Precision\n",
    "    Input: answer - a dictionary of <docid, relevance> pairs\n",
    "           prediction - a *sorted* list of docid ordered by ranking scores\n",
    "    Output: R-Precision\n",
    "    '''\n",
    "    \n",
    "    total_rel_doc = len({ k:v for k,v in answer.items() if v != 0})\n",
    "    count = 0\n",
    "    for i in range(0, total_rel_doc):\n",
    "        doc_id = prediction[i]\n",
    "        if doc_id in answer.keys():\n",
    "            if (answer[doc_id] == 1) or (answer[doc_id] == 2):\n",
    "                count += 1\n",
    "            else:\n",
    "                continue\n",
    "        else:\n",
    "            continue\n",
    "    return count/total_rel_doc"
   ]
  },
  {
   "cell_type": "code",
   "execution_count": 7,
   "metadata": {},
   "outputs": [],
   "source": [
    "def calculate_average_precision (answer, prediction):\n",
    "    \n",
    "    '''\n",
    "    Calculate Average Precision for a query\n",
    "    Input: answer - a dictionary of <docid, relevance> pairs per query\n",
    "           prediction - a *sorted* list of docid ordered by ranking scores\n",
    "    Output: Average Precision\n",
    "    '''\n",
    "    \n",
    "    list_precision = []\n",
    "    rel_docs = []\n",
    "    \n",
    "    total_rel_doc = len({ k:v for k,v in answer.items() if v != 0})\n",
    "    \n",
    "    # iterate over the ranking\n",
    "    for i in range(0, len(prediction)):\n",
    "        doc_id = prediction[i]\n",
    "        if doc_id in answer.keys():\n",
    "            if (answer[doc_id] == 1) or (answer[doc_id] == 2):\n",
    "                # append to the result\n",
    "                rel_docs.append(doc_id)\n",
    "                # precision at this position\n",
    "                precision = float(len(rel_docs) / (i + 1))\n",
    "                list_precision.append(precision)   \n",
    "            # not relevant\n",
    "            else:\n",
    "                continue \n",
    "        # not judged        \n",
    "        else:\n",
    "            continue\n",
    "            \n",
    "    return float(np.sum(list_precision) / total_rel_doc)"
   ]
  }
 ],
 "metadata": {
  "kernelspec": {
   "display_name": "Python 3",
   "language": "python",
   "name": "python3"
  },
  "language_info": {
   "codemirror_mode": {
    "name": "ipython",
    "version": 3
   },
   "file_extension": ".py",
   "mimetype": "text/x-python",
   "name": "python",
   "nbconvert_exporter": "python",
   "pygments_lexer": "ipython3",
   "version": "3.7.4"
  }
 },
 "nbformat": 4,
 "nbformat_minor": 4
}
