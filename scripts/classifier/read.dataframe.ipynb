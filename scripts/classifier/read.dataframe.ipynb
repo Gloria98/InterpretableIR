{
 "cells": [
  {
   "cell_type": "code",
   "execution_count": 2,
   "metadata": {},
   "outputs": [],
   "source": [
    "import pandas as pd\n",
    "import requests\n",
    "import xml.etree.ElementTree as ET"
   ]
  },
  {
   "cell_type": "code",
   "execution_count": 3,
   "metadata": {},
   "outputs": [],
   "source": [
    "def read_dataframe(year, field):\n",
    "    \n",
    "    '''\n",
    "    Read the dataframe of a year\n",
    "    Args: filed (disease/gene/demo/pm), year: a single year\n",
    "    Returns: a dataframe\n",
    "    '''\n",
    "    \n",
    "    columns = [\"trec_topic_number\", \"trec_doc_id\", \"year\"]\n",
    "    \n",
    "    if field == \"disease\":\n",
    "        columns.append(\"disease_desc\")\n",
    "    elif field == \"pm\":\n",
    "        columns.append(\"pm_rel_desc\")\n",
    "    elif field == \"demo\":\n",
    "        columns.append(\"demographics_desc\")\n",
    "    elif field == \"gene\":\n",
    "        columns.append(\"gene1_annotation_desc\")\n",
    "        columns.append(\"gene2_annotation_desc\")\n",
    "        columns.append(\"gene3_annotation_desc\")\n",
    "        \n",
    "    df = pd.read_csv(\"/Users/jiamingqu/Desktop/2017.2018/data/rawjudgements/judgments\"+str(year)+\".csv\")\n",
    "    df['year'] = year\n",
    "    \n",
    "    return df[columns]"
   ]
  },
  {
   "cell_type": "code",
   "execution_count": 9,
   "metadata": {},
   "outputs": [],
   "source": [
    "def searching_by_docid(docid):\n",
    "    query_string = \"pmid:\" + str(docid)\n",
    "    payload = {'q': query_string, 'start': '0', 'rows': 1}\n",
    "    response = requests.get('http://localhost:12345/solr/test_medline/select', params = payload)\n",
    "    return response.json()[\"response\"][\"docs\"][0]"
   ]
  },
  {
   "cell_type": "code",
   "execution_count": 10,
   "metadata": {},
   "outputs": [],
   "source": [
    "def read_query_topics(year, field):\n",
    "    \n",
    "    '''\n",
    "    Read the query topics of a certain year\n",
    "    Args: year: a certain year\n",
    "          field (disease/gene/demo/pm)\n",
    "    Returns: a <topic_no, query> dictionary\n",
    "    '''\n",
    "    \n",
    "    tree = ET.parse(\"/Users/jiamingqu/Desktop/2017.2018/data/topics/topics\" + str(year) + \".xml\")\n",
    "    root = tree.getroot()\n",
    "    \n",
    "    results = {}\n",
    "    count = 1\n",
    "    \n",
    "    for child in root:\n",
    "        if field == \"disease\":\n",
    "            results[count] = child[0].text\n",
    "            count += 1\n",
    "        elif field == \"gene\":\n",
    "            results[count] = child[1].text\n",
    "            count += 1\n",
    "        elif field == \"demo\":\n",
    "            results[count] = child[2].text\n",
    "            count += 1\n",
    "            \n",
    "    return results"
   ]
  }
 ],
 "metadata": {
  "kernelspec": {
   "display_name": "Python 3",
   "language": "python",
   "name": "python3"
  },
  "language_info": {
   "codemirror_mode": {
    "name": "ipython",
    "version": 3
   },
   "file_extension": ".py",
   "mimetype": "text/x-python",
   "name": "python",
   "nbconvert_exporter": "python",
   "pygments_lexer": "ipython3",
   "version": "3.7.4"
  }
 },
 "nbformat": 4,
 "nbformat_minor": 4
}
