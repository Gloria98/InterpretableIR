{
 "cells": [
  {
   "cell_type": "code",
   "execution_count": 15,
   "metadata": {},
   "outputs": [],
   "source": [
    "%run /Users/jiamingqu/Desktop/proj/scripts/searching/evaluation.functions.ipynb\n",
    "%run /Users/jiamingqu/Desktop/proj/scripts/data.modeling/training.tree.model.ipynb\n",
    "%run /Users/jiamingqu/Desktop/proj/scripts/reranking/significance.testing.ipynb"
   ]
  },
  {
   "cell_type": "code",
   "execution_count": 16,
   "metadata": {},
   "outputs": [],
   "source": [
    "import pandas as pd\n",
    "import joblib\n",
    "import numpy as np"
   ]
  },
  {
   "cell_type": "code",
   "execution_count": 17,
   "metadata": {},
   "outputs": [],
   "source": [
    "def get_tree_soft_prob_coverage(year,ndocs_rerank=500):\n",
    "    \n",
    "    \n",
    "    # read predited prob.\n",
    "    df_features_high = pd.read_csv(str(year)+'.high.features.csv',sep=',')\n",
    "    df_features_high['topicid'] = df_features_high['topicid'].astype(int)\n",
    "    df_features_high['docid'] = df_features_high['docid'].astype(str)\n",
    "    \n",
    "    # features \n",
    "    feature_names = ['Human_PM', 'Animal_PM', 'Not_PM', \n",
    "                     'Disease_Exact','Disease_General', 'Disease_Specific', 'Disease_Not', \n",
    "                     'Gene_Exact','Gene_Missing', 'Gene_Missing_Variant', 'Gene_Diff_Variant',\n",
    "                     'Demo_Match', 'Demo_Notdiscussed', 'Demo_Exclude']          \n",
    "                                   \n",
    "    \n",
    "    all_prob = []\n",
    "    \n",
    "    for topic in [*range(1,51)]:\n",
    "        \n",
    "        # read ground truth\n",
    "        answer = read_answers(year,topic)\n",
    "\n",
    "        # 500 results under a topic\n",
    "        df_topic = df_features_high.loc[df_features_high.topicid == topic]\n",
    "        df_topic = df_topic.head(500)\n",
    "\n",
    "        # we only rerank the first n results\n",
    "        df_topic_reanking = df_topic.head(ndocs_rerank)\n",
    "        df_topic_noreanking = df_topic.tail(500-ndocs_rerank)\n",
    "\n",
    "        for index,rows in df_topic_reanking.iterrows():\n",
    "\n",
    "            docid = str(df_topic_reanking.loc[index,\"docid\"])\n",
    "            features = df_topic_reanking.loc[index, feature_names]\n",
    "            results = probalistic_tree_balanced_all_probs(dict(features))\n",
    "            results.sort(reverse=True)\n",
    "        \n",
    "        sum_prob_top3 = results[0]+results[1]+results[2]\n",
    "\n",
    "    all_prob.append(sum_prob_top3)\n",
    "    \n",
    "    print(np.mean(all_prob))"
   ]
  },
  {
   "cell_type": "code",
   "execution_count": 18,
   "metadata": {},
   "outputs": [
    {
     "name": "stdout",
     "output_type": "stream",
     "text": [
      "0.6201435901114503\n"
     ]
    }
   ],
   "source": [
    "get_tree_soft_prob_coverage(2018)"
   ]
  }
 ],
 "metadata": {
  "kernelspec": {
   "display_name": "Python 3",
   "language": "python",
   "name": "python3"
  },
  "language_info": {
   "codemirror_mode": {
    "name": "ipython",
    "version": 3
   },
   "file_extension": ".py",
   "mimetype": "text/x-python",
   "name": "python",
   "nbconvert_exporter": "python",
   "pygments_lexer": "ipython3",
   "version": "3.7.4"
  }
 },
 "nbformat": 4,
 "nbformat_minor": 4
}
