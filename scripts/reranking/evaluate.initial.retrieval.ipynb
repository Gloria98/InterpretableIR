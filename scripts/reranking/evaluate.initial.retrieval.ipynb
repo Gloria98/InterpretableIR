{
 "cells": [
  {
   "cell_type": "code",
   "execution_count": 48,
   "metadata": {},
   "outputs": [],
   "source": [
    "%run /Users/jiamingqu/Desktop/proj/scripts/searching/evaluation.functions.ipynb\n",
    "%run /Users/jiamingqu/Desktop/proj/scripts/reranking/significance.testing.ipynb"
   ]
  },
  {
   "cell_type": "code",
   "execution_count": 49,
   "metadata": {},
   "outputs": [],
   "source": [
    "import pandas as pd\n",
    "import warnings\n",
    "warnings.filterwarnings(\"ignore\")\n",
    "import numpy as np\n",
    "import random\n",
    "from itertools import combinations, permutations"
   ]
  },
  {
   "cell_type": "code",
   "execution_count": 70,
   "metadata": {},
   "outputs": [],
   "source": [
    "def evaluate_initial_retrieval_results(year):\n",
    "    \n",
    "    initial_retrieval = pd.read_csv(\"../searching/\"+str(year)+\".searching/\"+str(year)+\".basic.query.result.txt\", sep=\"\\t\")\n",
    "\n",
    "    initial_retrieval.ID = initial_retrieval.ID.astype(str)\n",
    "\n",
    "    # record results\n",
    "    precision = []\n",
    "    ap = []\n",
    "    recall = []\n",
    "    rprec = []\n",
    "\n",
    "    for topic in set(initial_retrieval.TOPIC_NO):\n",
    "    \n",
    "        result_by_topic = initial_retrieval.loc[initial_retrieval.TOPIC_NO==topic]\n",
    "        result_by_topic = result_by_topic.head(500)\n",
    "        answer = read_answers(year,topic)\n",
    "        doc = list(result_by_topic.ID)\n",
    "\n",
    "        precision.append(calculate_precision(answer,doc,10))\n",
    "        ap.append(calculate_average_precision(answer,doc))\n",
    "        recall.append(calculate_recall(answer,doc,100))\n",
    "        rprec.append(calculate_r_precision(answer,doc))\n",
    "        \n",
    "\n",
    "    print(\"Precision@10: {}\".format(np.mean(precision)))\n",
    "    print(\"MAP: {}\".format(np.mean(ap)))\n",
    "    print(\"Recall@100: {}\".format(np.mean(recall)))\n",
    "    print(\"Recall@100: {}\".format(np.mean(rprec)))"
   ]
  },
  {
   "cell_type": "code",
   "execution_count": 71,
   "metadata": {},
   "outputs": [
    {
     "name": "stdout",
     "output_type": "stream",
     "text": [
      "Precision@10: 0.536\n",
      "MAP: 0.2272842835004859\n",
      "Recall@100: 0.31808001302743083\n",
      "Recall@100: 0.3122000106198024\n"
     ]
    }
   ],
   "source": [
    "# basic query\n",
    "evaluate_initial_retrieval_results(2018)"
   ]
  }
 ],
 "metadata": {
  "kernelspec": {
   "display_name": "Python 3",
   "language": "python",
   "name": "python3"
  },
  "language_info": {
   "codemirror_mode": {
    "name": "ipython",
    "version": 3
   },
   "file_extension": ".py",
   "mimetype": "text/x-python",
   "name": "python",
   "nbconvert_exporter": "python",
   "pygments_lexer": "ipython3",
   "version": "3.7.4"
  }
 },
 "nbformat": 4,
 "nbformat_minor": 4
}
