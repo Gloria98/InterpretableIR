{
 "cells": [
  {
   "cell_type": "code",
   "execution_count": 13,
   "metadata": {},
   "outputs": [],
   "source": [
    "import numpy as np\n",
    "import random\n",
    "from itertools import combinations, permutations"
   ]
  },
  {
   "cell_type": "code",
   "execution_count": 14,
   "metadata": {},
   "outputs": [],
   "source": [
    "def paired_permutation_test(X,Y, rep=100000, seed=None, isTwoSides=None):\n",
    "\n",
    "    # X and Y must have the same length\n",
    "    # X and Y are all array\n",
    "    # rep is the repeat times\n",
    "    # the mean difference is mean(X)-mean(Y)\n",
    "    # X is baseline, Y is comparison\n",
    "    \n",
    "    len_X = len(X)\n",
    "    len_Y = len(Y)\n",
    "\n",
    "    if len_X != len_Y:\n",
    "        raise Exception('len_X is not equal to len_Y')\n",
    "\n",
    "    combinations = []\n",
    "    for rep_ in range(rep):\n",
    "        combination = []\n",
    "        for i in range(len_X):\n",
    "            if random.random()<0.5:\n",
    "                combination.append(i)\n",
    "        combinations.append(combination)\n",
    "\n",
    "\n",
    "    sample_data_mean_differences = []\n",
    "\n",
    "    # generate sample data and calculate the mean difference\n",
    "    for combination in combinations:\n",
    "\n",
    "        # calculate the mean difference between other sample data\n",
    "        X_ = X.copy()\n",
    "        Y_ = Y.copy()\n",
    "\n",
    "        if len(combination)>0:\n",
    "\n",
    "            for swap_index in combination:\n",
    "                temp = X_[swap_index]\n",
    "                X_[swap_index] = Y_[swap_index]\n",
    "                Y_[swap_index] = temp\n",
    "\n",
    "        mean_difference = np.mean(X_) - np.mean(Y_)\n",
    "        sample_data_mean_differences.append(mean_difference)\n",
    "\n",
    "        # print(combination)\n",
    "        # print(X_)\n",
    "        # print(Y_)\n",
    "        # print(mean_difference)\n",
    "        # print('----')\n",
    "\n",
    "    # calculate p-value\n",
    "    t0 = np.mean(X) - np.mean(Y)\n",
    "    count = 0\n",
    "\n",
    "    for i in sample_data_mean_differences:\n",
    "        if isTwoSides:\n",
    "            if np.abs(i) >= np.abs(t0):\n",
    "                count += 1\n",
    "        else:\n",
    "            if i >= t0:\n",
    "                count += 1\n",
    "\n",
    "    p_value = float(count/len(sample_data_mean_differences))\n",
    "\n",
    "    return p_value"
   ]
  }
 ],
 "metadata": {
  "kernelspec": {
   "display_name": "Python 3",
   "language": "python",
   "name": "python3"
  },
  "language_info": {
   "codemirror_mode": {
    "name": "ipython",
    "version": 3
   },
   "file_extension": ".py",
   "mimetype": "text/x-python",
   "name": "python",
   "nbconvert_exporter": "python",
   "pygments_lexer": "ipython3",
   "version": "3.7.4"
  }
 },
 "nbformat": 4,
 "nbformat_minor": 4
}
